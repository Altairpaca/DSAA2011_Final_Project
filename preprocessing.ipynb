{
 "cells": [
  {
   "cell_type": "code",
   "execution_count": 1,
   "id": "d2f10e55",
   "metadata": {},
   "outputs": [],
   "source": [
    "import pandas as pd\n",
    "import numpy as np\n",
    "from typing import Literal"
   ]
  },
  {
   "cell_type": "markdown",
   "id": "92d8b9f8",
   "metadata": {},
   "source": [
    "### Format the data into pandas.DataFrame\n",
    "After this preprocessing procedure, we can easily get the data as a DataFrame through pandas"
   ]
  },
  {
   "cell_type": "code",
   "execution_count": 2,
   "id": "ad3ed192",
   "metadata": {},
   "outputs": [],
   "source": [
    "def get_data(flag: Literal['train', 'test']) -> tuple[pd.DataFrame, pd.Series]:\n",
    "    \"\"\"\n",
    "    Load and process the UCI HAR Dataset for the specified data type ('train' or 'test').\n",
    "    :param flag: A string indicating the type of data to load ('train' or 'test').\n",
    "    :return: A pandas DataFrame containing the processed data with features and labels.\n",
    "    \"\"\"\n",
    "\n",
    "    # Read the data from the text files and create a DataFrame\n",
    "    return (pd.DataFrame((line.strip().split() for line in open(f'UCI HAR Dataset/{flag}/X_{flag}.txt', 'r')),\n",
    "                         columns=(feature.split()[1] for feature in open(\n",
    "                             'UCI HAR Dataset/features.txt', 'r')),\n",
    "                         dtype=np.float64),\n",
    "            pd.Series((label.strip() for label in open(\n",
    "                f'UCI HAR Dataset/{flag}/y_{flag}.txt')), name='label').astype(np.int8)-1)"
   ]
  },
  {
   "cell_type": "markdown",
   "id": "90ad4885",
   "metadata": {},
   "source": [
    "### Describe the data and check invalid values\n",
    "As we can see, there is no invalid values and all data has been normalized to $[-1,1]$.  \n",
    "So there is no need to do more normalization.  "
   ]
  },
  {
   "cell_type": "code",
   "execution_count": 3,
   "id": "b41ebc3c",
   "metadata": {},
   "outputs": [
    {
     "name": "stdout",
     "output_type": "stream",
     "text": [
      "(7352, 561) (7352,)\n",
      "(2947, 561) (2947,)\n",
      "0 0\n",
      "0 0\n",
      "0 0\n",
      "0 0\n",
      "       tBodyAcc-mean()-X  tBodyAcc-mean()-Y  tBodyAcc-mean()-Z  \\\n",
      "count        7352.000000        7352.000000        7352.000000   \n",
      "mean            0.274488          -0.017695          -0.109141   \n",
      "std             0.070261           0.040811           0.056635   \n",
      "min            -1.000000          -1.000000          -1.000000   \n",
      "25%             0.262975          -0.024863          -0.120993   \n",
      "50%             0.277193          -0.017219          -0.108676   \n",
      "75%             0.288461          -0.010783          -0.097794   \n",
      "max             1.000000           1.000000           1.000000   \n",
      "\n",
      "       tBodyAcc-std()-X  tBodyAcc-std()-Y  tBodyAcc-std()-Z  tBodyAcc-mad()-X  \\\n",
      "count       7352.000000       7352.000000       7352.000000       7352.000000   \n",
      "mean          -0.605438         -0.510938         -0.604754         -0.630512   \n",
      "std            0.448734          0.502645          0.418687          0.424073   \n",
      "min           -1.000000         -0.999873         -1.000000         -1.000000   \n",
      "25%           -0.992754         -0.978129         -0.980233         -0.993591   \n",
      "50%           -0.946196         -0.851897         -0.859365         -0.950709   \n",
      "75%           -0.242813         -0.034231         -0.262415         -0.292680   \n",
      "max            1.000000          0.916238          1.000000          1.000000   \n",
      "\n",
      "       tBodyAcc-mad()-Y  tBodyAcc-mad()-Z  tBodyAcc-max()-X  ...  \\\n",
      "count       7352.000000       7352.000000       7352.000000  ...   \n",
      "mean          -0.526907         -0.606150         -0.468604  ...   \n",
      "std            0.485942          0.414122          0.544547  ...   \n",
      "min           -1.000000         -1.000000         -1.000000  ...   \n",
      "25%           -0.978162         -0.980251         -0.936219  ...   \n",
      "50%           -0.857328         -0.857143         -0.881637  ...   \n",
      "75%           -0.066701         -0.265671         -0.017129  ...   \n",
      "max            0.967664          1.000000          1.000000  ...   \n",
      "\n",
      "       fBodyBodyGyroJerkMag-meanFreq()  fBodyBodyGyroJerkMag-skewness()  \\\n",
      "count                      7352.000000                      7352.000000   \n",
      "mean                          0.125293                        -0.307009   \n",
      "std                           0.250994                         0.321011   \n",
      "min                          -1.000000                        -0.995357   \n",
      "25%                          -0.023692                        -0.542602   \n",
      "50%                           0.134000                        -0.343685   \n",
      "75%                           0.289096                        -0.126979   \n",
      "max                           0.946700                         0.989538   \n",
      "\n",
      "       fBodyBodyGyroJerkMag-kurtosis()  angle(tBodyAccMean,gravity)  \\\n",
      "count                      7352.000000                  7352.000000   \n",
      "mean                         -0.625294                     0.008684   \n",
      "std                           0.307584                     0.336787   \n",
      "min                          -0.999765                    -0.976580   \n",
      "25%                          -0.845573                    -0.121527   \n",
      "50%                          -0.711692                     0.009509   \n",
      "75%                          -0.503878                     0.150865   \n",
      "max                           0.956845                     1.000000   \n",
      "\n",
      "       angle(tBodyAccJerkMean,gravityMean)  angle(tBodyGyroMean,gravityMean)  \\\n",
      "count                          7352.000000                       7352.000000   \n",
      "mean                              0.002186                          0.008726   \n",
      "std                               0.448306                          0.608303   \n",
      "min                              -1.000000                         -1.000000   \n",
      "25%                              -0.289549                         -0.482273   \n",
      "50%                               0.008943                          0.008735   \n",
      "75%                               0.292861                          0.506187   \n",
      "max                               1.000000                          0.998702   \n",
      "\n",
      "       angle(tBodyGyroJerkMean,gravityMean)  angle(X,gravityMean)  \\\n",
      "count                           7352.000000           7352.000000   \n",
      "mean                              -0.005981             -0.489547   \n",
      "std                                0.477975              0.511807   \n",
      "min                               -1.000000             -1.000000   \n",
      "25%                               -0.376341             -0.812065   \n",
      "50%                               -0.000368             -0.709417   \n",
      "75%                                0.359368             -0.509079   \n",
      "max                                0.996078              1.000000   \n",
      "\n",
      "       angle(Y,gravityMean)  angle(Z,gravityMean)  \n",
      "count           7352.000000           7352.000000  \n",
      "mean               0.058593             -0.056515  \n",
      "std                0.297480              0.279122  \n",
      "min               -1.000000             -1.000000  \n",
      "25%               -0.017885             -0.143414  \n",
      "50%                0.182071              0.003181  \n",
      "75%                0.248353              0.107659  \n",
      "max                0.478157              1.000000  \n",
      "\n",
      "[8 rows x 561 columns]\n"
     ]
    }
   ],
   "source": [
    "# fetch the data\n",
    "X_train, y_train = get_data('train')\n",
    "X_test, y_test = get_data('test')\n",
    "\n",
    "# # check the data again\n",
    "print(X_train.shape, y_train.shape)\n",
    "print(X_test.shape, y_test.shape)\n",
    "print(X_train.isnull().sum().sum(), y_train.isnull().sum())\n",
    "print(X_test.isnull().sum().sum(), y_test.isnull().sum())\n",
    "print(np.isinf(X_train).sum().sum(), np.isinf(y_train).sum())\n",
    "print(np.isinf(X_test).sum().sum(), np.isinf(y_test).sum())\n",
    "\n",
    "print(X_train.describe())"
   ]
  },
  {
   "cell_type": "markdown",
   "id": "d9822cf4",
   "metadata": {},
   "source": [
    "### Save the data into csv files"
   ]
  },
  {
   "cell_type": "code",
   "execution_count": 4,
   "id": "09982f18",
   "metadata": {},
   "outputs": [],
   "source": [
    "X_train.to_csv('X_train.csv', index=False)\n",
    "X_test.to_csv('X_test.csv', index=False)\n",
    "y_train.to_csv('y_train.csv', index=False)\n",
    "y_test.to_csv('y_test.csv', index=False)"
   ]
  }
 ],
 "metadata": {
  "kernelspec": {
   "display_name": "Python 3",
   "language": "python",
   "name": "python3"
  },
  "language_info": {
   "codemirror_mode": {
    "name": "ipython",
    "version": 3
   },
   "file_extension": ".py",
   "mimetype": "text/x-python",
   "name": "python",
   "nbconvert_exporter": "python",
   "pygments_lexer": "ipython3",
   "version": "3.11.12"
  }
 },
 "nbformat": 4,
 "nbformat_minor": 5
}
